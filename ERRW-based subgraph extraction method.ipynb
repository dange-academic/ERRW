{
 "cells": [
  {
   "cell_type": "markdown",
   "id": "9f03eb56",
   "metadata": {},
   "source": [
    "### Title: Extracting high-fidelity smaller-scale subgraphs of complex networks by edge-reinforced random walk\n",
    "### Author: Dan Chen and Housheng Su"
   ]
  },
  {
   "cell_type": "code",
   "execution_count": null,
   "id": "7eef3979",
   "metadata": {},
   "outputs": [],
   "source": [
    "import networkx as nx\n",
    "import numpy as np"
   ]
  },
  {
   "cell_type": "code",
   "execution_count": 2,
   "id": "8230c91b",
   "metadata": {},
   "outputs": [],
   "source": [
    "# relabel nodes' labels\n",
    "def relabel_nodes_labels(G):\n",
    "    mapping = dict(zip(G, range(len(G.nodes()))))\n",
    "    G = nx.relabel_nodes(G, mapping)\n",
    "    return G\n",
    "\n",
    "def load_graph_data(filename):\n",
    "    G = nx.read_edgelist(\"./unweighted_networks/\" + filename + \".dat\")\n",
    "    G = relabel_nodes_labels(G)\n",
    "    return G\n",
    "\n",
    "def ERRWs_subgraph(G, delta_w, num_time_steps, initial_position, target_size):\n",
    "    # initialize the weight of each edge\n",
    "    for i, j in G.edges():\n",
    "        G[i][j]['weight'] = 1.0\n",
    "\n",
    "    flag = 0\n",
    "    S = []\n",
    "    for node in initial_position:\n",
    "        # print(node)\n",
    "        S.append(node) \n",
    "        for _ in range(num_time_steps):\n",
    "            # transfer probability\n",
    "            total_weight = sum([G[node][neighbor]['weight'] for neighbor in G.neighbors(node)])\n",
    "            transition_probs = {neighbor: G[node][neighbor]['weight'] / total_weight for neighbor in G.neighbors(node)}\n",
    "\n",
    "            next_node = np.random.choice(list(transition_probs.keys()), p=list(transition_probs.values()))\n",
    "            S.append(next_node)\n",
    "\n",
    "            # Update the edge weights\n",
    "            G[node][next_node]['weight'] += delta_w\n",
    "            G[next_node][node]['weight'] += delta_w\n",
    "\n",
    "            node = next_node\n",
    "\n",
    "            if len(set(S))>=target_size:\n",
    "                flag = 1\n",
    "                break\n",
    "        if flag == 1:\n",
    "            break\n",
    "    # print(len(set(S)))\n",
    "\n",
    "    sample_nodes = list(set(S))\n",
    "    Gs = G.subgraph(sample_nodes)\n",
    "\n",
    "    return Gs.copy()"
   ]
  },
  {
   "cell_type": "code",
   "execution_count": 3,
   "id": "dd7073b8",
   "metadata": {},
   "outputs": [
    {
     "name": "stdout",
     "output_type": "stream",
     "text": [
      "Graph with 1436 nodes and 4718 edges\n"
     ]
    }
   ],
   "source": [
    "filename = [\"Metabolic\", \"Drosophila\", \"Music\", \"Airports\", \"Proteome\",\\\n",
    "            \"USpowergrid\", \"Words\", \"Highvoltage\", \"Internet\", \"Enron\"]\n",
    "\n",
    "net_label = 0\n",
    "G = load_graph_data(filename[net_label])\n",
    "N = len(G)\n",
    "print(G)"
   ]
  },
  {
   "cell_type": "code",
   "execution_count": 4,
   "id": "34e6f867",
   "metadata": {},
   "outputs": [
    {
     "name": "stdout",
     "output_type": "stream",
     "text": [
      "Graph with 718 nodes and 2675 edges\n"
     ]
    }
   ],
   "source": [
    "num_time_steps0 = 20000\n",
    "delta_w = 0.01\n",
    "\n",
    "DC = nx.degree_centrality(G)\n",
    "sorted_DC = dict(sorted(DC.items(), key=lambda x: x[1], reverse=True))\n",
    "sorted_indices = list(sorted_DC.keys())\n",
    "\n",
    "m = 10 \n",
    "initial_position = list(sorted_indices[:m])\n",
    "Gs = ERRWs_subgraph(G, delta_w, int(num_time_steps0), initial_position, int(0.5*N))\n",
    "\n",
    "print(Gs)"
   ]
  },
  {
   "cell_type": "code",
   "execution_count": null,
   "id": "1b05383c",
   "metadata": {},
   "outputs": [],
   "source": []
  }
 ],
 "metadata": {
  "kernelspec": {
   "display_name": "Python 3 (ipykernel)",
   "language": "python",
   "name": "python3"
  },
  "language_info": {
   "codemirror_mode": {
    "name": "ipython",
    "version": 3
   },
   "file_extension": ".py",
   "mimetype": "text/x-python",
   "name": "python",
   "nbconvert_exporter": "python",
   "pygments_lexer": "ipython3",
   "version": "3.9.6"
  }
 },
 "nbformat": 4,
 "nbformat_minor": 5
}
